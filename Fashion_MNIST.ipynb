{
 "cells": [
  {
   "cell_type": "code",
   "execution_count": 1,
   "id": "2c6d8654",
   "metadata": {},
   "outputs": [
    {
     "name": "stdout",
     "output_type": "stream",
     "text": [
      "2.6.2\n"
     ]
    }
   ],
   "source": [
    "import tensorflow as tf\n",
    "from tensorflow import keras\n",
    "import numpy as np\n",
    "import pandas as pd\n",
    "import matplotlib.pyplot as plt\n",
    "print(tf.__version__)"
   ]
  },
  {
   "cell_type": "code",
   "execution_count": 2,
   "id": "1e24e5c5",
   "metadata": {},
   "outputs": [],
   "source": [
    "fashion_mnist = keras.datasets.fashion_mnist"
   ]
  },
  {
   "cell_type": "code",
   "execution_count": 3,
   "id": "50708daa",
   "metadata": {},
   "outputs": [
    {
     "data": {
      "text/plain": [
       "<module 'keras.api._v2.keras.datasets.fashion_mnist' from 'C:\\\\Users\\\\Asus\\\\.conda\\\\envs\\\\deepl\\\\lib\\\\site-packages\\\\keras\\\\api\\\\_v2\\\\keras\\\\datasets\\\\fashion_mnist\\\\__init__.py'>"
      ]
     },
     "execution_count": 3,
     "metadata": {},
     "output_type": "execute_result"
    }
   ],
   "source": [
    "fashion_mnist"
   ]
  },
  {
   "cell_type": "code",
   "execution_count": 4,
   "id": "bde64872",
   "metadata": {},
   "outputs": [],
   "source": [
    "(train_images,train_labels), (test_images,test_labels) = fashion_mnist.load_data()"
   ]
  },
  {
   "cell_type": "code",
   "execution_count": 5,
   "id": "4f164b9b",
   "metadata": {},
   "outputs": [
    {
     "data": {
      "text/plain": [
       "(60000, 28, 28)"
      ]
     },
     "execution_count": 5,
     "metadata": {},
     "output_type": "execute_result"
    }
   ],
   "source": [
    "train_images.shape"
   ]
  },
  {
   "cell_type": "code",
   "execution_count": 6,
   "id": "e7133dc9",
   "metadata": {},
   "outputs": [
    {
     "data": {
      "text/plain": [
       "(10000, 28, 28)"
      ]
     },
     "execution_count": 6,
     "metadata": {},
     "output_type": "execute_result"
    }
   ],
   "source": [
    "test_images.shape"
   ]
  },
  {
   "cell_type": "code",
   "execution_count": 7,
   "id": "6615b4ec",
   "metadata": {},
   "outputs": [
    {
     "data": {
      "text/plain": [
       "array([9, 0, 0, ..., 3, 0, 5], dtype=uint8)"
      ]
     },
     "execution_count": 7,
     "metadata": {},
     "output_type": "execute_result"
    }
   ],
   "source": [
    "train_labels"
   ]
  },
  {
   "cell_type": "code",
   "execution_count": 8,
   "id": "5e9b7d74",
   "metadata": {},
   "outputs": [
    {
     "data": {
      "text/plain": [
       "array([[  0,   0,   0,   0,   0,   0,   0,   0,   0,   0,   0,   0,   0,\n",
       "          0,   0,   0,   0,   0,   0,   0,   0,   0,   0,   0,   0,   0,\n",
       "          0,   0],\n",
       "       [  0,   0,   0,   0,   0,   0,   0,   0,   0,   0,   0,   0,   0,\n",
       "          0,   0,   0,   0,   0,   0,   0,   0,   0,   0,   0,   0,   0,\n",
       "          0,   0],\n",
       "       [  0,   0,   0,   0,   0,   0,   0,   0,   0,   0,   0,   0,   0,\n",
       "          0,   0,   0,   0,   0,   0,   0,   0,   0,   0,   0,   0,   0,\n",
       "          0,   0],\n",
       "       [  0,   0,   0,   0,   0,   0,   0,   0,   0,   0,   0,   0,   1,\n",
       "          0,   0,  13,  73,   0,   0,   1,   4,   0,   0,   0,   0,   1,\n",
       "          1,   0],\n",
       "       [  0,   0,   0,   0,   0,   0,   0,   0,   0,   0,   0,   0,   3,\n",
       "          0,  36, 136, 127,  62,  54,   0,   0,   0,   1,   3,   4,   0,\n",
       "          0,   3],\n",
       "       [  0,   0,   0,   0,   0,   0,   0,   0,   0,   0,   0,   0,   6,\n",
       "          0, 102, 204, 176, 134, 144, 123,  23,   0,   0,   0,   0,  12,\n",
       "         10,   0],\n",
       "       [  0,   0,   0,   0,   0,   0,   0,   0,   0,   0,   0,   0,   0,\n",
       "          0, 155, 236, 207, 178, 107, 156, 161, 109,  64,  23,  77, 130,\n",
       "         72,  15],\n",
       "       [  0,   0,   0,   0,   0,   0,   0,   0,   0,   0,   0,   1,   0,\n",
       "         69, 207, 223, 218, 216, 216, 163, 127, 121, 122, 146, 141,  88,\n",
       "        172,  66],\n",
       "       [  0,   0,   0,   0,   0,   0,   0,   0,   0,   1,   1,   1,   0,\n",
       "        200, 232, 232, 233, 229, 223, 223, 215, 213, 164, 127, 123, 196,\n",
       "        229,   0],\n",
       "       [  0,   0,   0,   0,   0,   0,   0,   0,   0,   0,   0,   0,   0,\n",
       "        183, 225, 216, 223, 228, 235, 227, 224, 222, 224, 221, 223, 245,\n",
       "        173,   0],\n",
       "       [  0,   0,   0,   0,   0,   0,   0,   0,   0,   0,   0,   0,   0,\n",
       "        193, 228, 218, 213, 198, 180, 212, 210, 211, 213, 223, 220, 243,\n",
       "        202,   0],\n",
       "       [  0,   0,   0,   0,   0,   0,   0,   0,   0,   1,   3,   0,  12,\n",
       "        219, 220, 212, 218, 192, 169, 227, 208, 218, 224, 212, 226, 197,\n",
       "        209,  52],\n",
       "       [  0,   0,   0,   0,   0,   0,   0,   0,   0,   0,   6,   0,  99,\n",
       "        244, 222, 220, 218, 203, 198, 221, 215, 213, 222, 220, 245, 119,\n",
       "        167,  56],\n",
       "       [  0,   0,   0,   0,   0,   0,   0,   0,   0,   4,   0,   0,  55,\n",
       "        236, 228, 230, 228, 240, 232, 213, 218, 223, 234, 217, 217, 209,\n",
       "         92,   0],\n",
       "       [  0,   0,   1,   4,   6,   7,   2,   0,   0,   0,   0,   0, 237,\n",
       "        226, 217, 223, 222, 219, 222, 221, 216, 223, 229, 215, 218, 255,\n",
       "         77,   0],\n",
       "       [  0,   3,   0,   0,   0,   0,   0,   0,   0,  62, 145, 204, 228,\n",
       "        207, 213, 221, 218, 208, 211, 218, 224, 223, 219, 215, 224, 244,\n",
       "        159,   0],\n",
       "       [  0,   0,   0,   0,  18,  44,  82, 107, 189, 228, 220, 222, 217,\n",
       "        226, 200, 205, 211, 230, 224, 234, 176, 188, 250, 248, 233, 238,\n",
       "        215,   0],\n",
       "       [  0,  57, 187, 208, 224, 221, 224, 208, 204, 214, 208, 209, 200,\n",
       "        159, 245, 193, 206, 223, 255, 255, 221, 234, 221, 211, 220, 232,\n",
       "        246,   0],\n",
       "       [  3, 202, 228, 224, 221, 211, 211, 214, 205, 205, 205, 220, 240,\n",
       "         80, 150, 255, 229, 221, 188, 154, 191, 210, 204, 209, 222, 228,\n",
       "        225,   0],\n",
       "       [ 98, 233, 198, 210, 222, 229, 229, 234, 249, 220, 194, 215, 217,\n",
       "        241,  65,  73, 106, 117, 168, 219, 221, 215, 217, 223, 223, 224,\n",
       "        229,  29],\n",
       "       [ 75, 204, 212, 204, 193, 205, 211, 225, 216, 185, 197, 206, 198,\n",
       "        213, 240, 195, 227, 245, 239, 223, 218, 212, 209, 222, 220, 221,\n",
       "        230,  67],\n",
       "       [ 48, 203, 183, 194, 213, 197, 185, 190, 194, 192, 202, 214, 219,\n",
       "        221, 220, 236, 225, 216, 199, 206, 186, 181, 177, 172, 181, 205,\n",
       "        206, 115],\n",
       "       [  0, 122, 219, 193, 179, 171, 183, 196, 204, 210, 213, 207, 211,\n",
       "        210, 200, 196, 194, 191, 195, 191, 198, 192, 176, 156, 167, 177,\n",
       "        210,  92],\n",
       "       [  0,   0,  74, 189, 212, 191, 175, 172, 175, 181, 185, 188, 189,\n",
       "        188, 193, 198, 204, 209, 210, 210, 211, 188, 188, 194, 192, 216,\n",
       "        170,   0],\n",
       "       [  2,   0,   0,   0,  66, 200, 222, 237, 239, 242, 246, 243, 244,\n",
       "        221, 220, 193, 191, 179, 182, 182, 181, 176, 166, 168,  99,  58,\n",
       "          0,   0],\n",
       "       [  0,   0,   0,   0,   0,   0,   0,  40,  61,  44,  72,  41,  35,\n",
       "          0,   0,   0,   0,   0,   0,   0,   0,   0,   0,   0,   0,   0,\n",
       "          0,   0],\n",
       "       [  0,   0,   0,   0,   0,   0,   0,   0,   0,   0,   0,   0,   0,\n",
       "          0,   0,   0,   0,   0,   0,   0,   0,   0,   0,   0,   0,   0,\n",
       "          0,   0],\n",
       "       [  0,   0,   0,   0,   0,   0,   0,   0,   0,   0,   0,   0,   0,\n",
       "          0,   0,   0,   0,   0,   0,   0,   0,   0,   0,   0,   0,   0,\n",
       "          0,   0]], dtype=uint8)"
      ]
     },
     "execution_count": 8,
     "metadata": {},
     "output_type": "execute_result"
    }
   ],
   "source": [
    "train_images[0]\n"
   ]
  },
  {
   "cell_type": "code",
   "execution_count": 9,
   "id": "c81012b0",
   "metadata": {},
   "outputs": [
    {
     "data": {
      "text/plain": [
       "9"
      ]
     },
     "execution_count": 9,
     "metadata": {},
     "output_type": "execute_result"
    }
   ],
   "source": [
    "train_labels[0]"
   ]
  },
  {
   "cell_type": "code",
   "execution_count": 11,
   "id": "668706ae",
   "metadata": {},
   "outputs": [
    {
     "data": {
      "image/png": "[encoded data removed]",
      "text/plain": [
       "<Figure size 432x288 with 1 Axes>"
      ]
     },
     "metadata": {},
     "output_type": "display_data"
    }
   ],
   "source": [
    "plt.imshow(train_images[0],cmap = \"gray_r\")\n",
    "plt.xticks([])\n",
    "plt.yticks([])\n",
    "plt.grid(False)\n",
    "plt.title(train_labels[0])\n",
    "plt.show()"
   ]
  },
  {
   "cell_type": "code",
   "execution_count": 12,
   "id": "2766872a",
   "metadata": {},
   "outputs": [],
   "source": [
    "class_names = ['T-shirt/top', 'Trouser', 'Pullover', 'Dress', 'Coat',\n",
    "               'Sandal', 'Shirt', 'Sneaker', 'Bag', 'Ankle boot']"
   ]
  },
  {
   "cell_type": "code",
   "execution_count": 13,
   "id": "69f3221d",
   "metadata": {},
   "outputs": [
    {
     "data": {
      "text/plain": [
       "['T-shirt/top',\n",
       " 'Trouser',\n",
       " 'Pullover',\n",
       " 'Dress',\n",
       " 'Coat',\n",
       " 'Sandal',\n",
       " 'Shirt',\n",
       " 'Sneaker',\n",
       " 'Bag',\n",
       " 'Ankle boot']"
      ]
     },
     "execution_count": 13,
     "metadata": {},
     "output_type": "execute_result"
    }
   ],
   "source": [
    "class_names"
   ]
  },
  {
   "cell_type": "code",
   "execution_count": 14,
   "id": "3d4e5df1",
   "metadata": {},
   "outputs": [
    {
     "data": {
      "text/plain": [
       "'Sandal'"
      ]
     },
     "execution_count": 14,
     "metadata": {},
     "output_type": "execute_result"
    }
   ],
   "source": [
    "class_names[5]"
   ]
  },
  {
   "cell_type": "code",
   "execution_count": 16,
   "id": "758fbf8c",
   "metadata": {},
   "outputs": [
    {
     "data": {
      "text/plain": [
       "2"
      ]
     },
     "execution_count": 16,
     "metadata": {},
     "output_type": "execute_result"
    }
   ],
   "source": [
    "train_labels[123]"
   ]
  },
  {
   "cell_type": "code",
   "execution_count": 17,
   "id": "cc04fd4f",
   "metadata": {},
   "outputs": [
    {
     "data": {
      "text/plain": [
       "'Pullover'"
      ]
     },
     "execution_count": 17,
     "metadata": {},
     "output_type": "execute_result"
    }
   ],
   "source": [
    "class_names[train_labels[123]]"
   ]
  },
  {
   "cell_type": "code",
   "execution_count": 18,
   "id": "7852251c",
   "metadata": {},
   "outputs": [
    {
     "data": {
      "image/png": "[encoded data removed]",
      "text/plain": [
       "<Figure size 432x288 with 1 Axes>"
      ]
     },
     "metadata": {},
     "output_type": "display_data"
    }
   ],
   "source": [
    "plt.imshow(train_images[123], cmap = \"gray_r\")\n",
    "plt.xticks([])\n",
    "plt.yticks([])\n",
    "plt.grid(False)\n",
    "plt.title(class_names[train_labels[123]])\n",
    "plt.show()"
   ]
  },
  {
   "cell_type": "code",
   "execution_count": 20,
   "id": "f246a127",
   "metadata": {},
   "outputs": [
    {
     "data": {
      "image/png": "[encoded data removed]",
      "text/plain": [
       "<Figure size 720x720 with 25 Axes>"
      ]
     },
     "metadata": {},
     "output_type": "display_data"
    }
   ],
   "source": [
    "plt.figure(figsize=(10,10))\n",
    "for i in range(25):\n",
    "    plt.subplot(5,5,i+1)\n",
    "    plt.xticks([])\n",
    "    plt.yticks([])\n",
    "    plt.grid(False)\n",
    "    plt.title(class_names[train_labels[i]])\n",
    "    plt.imshow(train_images[i],cmap=plt.cm.binary)\n",
    "plt.show()"
   ]
  },
  {
   "cell_type": "code",
   "execution_count": 21,
   "id": "e1d6ad97",
   "metadata": {},
   "outputs": [],
   "source": [
    "train_images = train_images/255.0\n",
    "test_images = test_images/255.0"
   ]
  },
  {
   "cell_type": "code",
   "execution_count": 22,
   "id": "15ead97f",
   "metadata": {},
   "outputs": [
    {
     "data": {
      "text/plain": [
       "array([[0.        , 0.        , 0.        , 0.        , 0.        ,\n",
       "        0.        , 0.        , 0.        , 0.        , 0.        ,\n",
       "        0.        , 0.        , 0.        , 0.        , 0.        ,\n",
       "        0.        , 0.        , 0.        , 0.        , 0.        ,\n",
       "        0.        , 0.        , 0.        , 0.        , 0.        ,\n",
       "        0.        , 0.        , 0.        ],\n",
       "       [0.        , 0.        , 0.        , 0.        , 0.        ,\n",
       "        0.        , 0.        , 0.        , 0.        , 0.        ,\n",
       "        0.        , 0.        , 0.        , 0.        , 0.        ,\n",
       "        0.        , 0.        , 0.        , 0.        , 0.        ,\n",
       "        0.        , 0.        , 0.        , 0.        , 0.        ,\n",
       "        0.        , 0.        , 0.        ],\n",
       "       [0.        , 0.        , 0.        , 0.        , 0.        ,\n",
       "        0.        , 0.        , 0.        , 0.        , 0.        ,\n",
       "        0.        , 0.        , 0.        , 0.        , 0.        ,\n",
       "        0.        , 0.        , 0.        , 0.        , 0.        ,\n",
       "        0.        , 0.        , 0.        , 0.        , 0.        ,\n",
       "        0.        , 0.        , 0.        ],\n",
       "       [0.        , 0.        , 0.        , 0.        , 0.        ,\n",
       "        0.        , 0.        , 0.        , 0.        , 0.        ,\n",
       "        0.        , 0.        , 0.00392157, 0.        , 0.        ,\n",
       "        0.05098039, 0.28627451, 0.        , 0.        , 0.00392157,\n",
       "        0.01568627, 0.        , 0.        , 0.        , 0.        ,\n",
       "        0.00392157, 0.00392157, 0.        ],\n",
       "       [0.        , 0.        , 0.        , 0.        , 0.        ,\n",
       "        0.        , 0.        , 0.        , 0.        , 0.        ,\n",
       "        0.        , 0.        , 0.01176471, 0.        , 0.14117647,\n",
       "        0.53333333, 0.49803922, 0.24313725, 0.21176471, 0.        ,\n",
       "        0.        , 0.        , 0.00392157, 0.01176471, 0.01568627,\n",
       "        0.        , 0.        , 0.01176471],\n",
       "       [0.        , 0.        , 0.        , 0.        , 0.        ,\n",
       "        0.        , 0.        , 0.        , 0.        , 0.        ,\n",
       "        0.        , 0.        , 0.02352941, 0.        , 0.4       ,\n",
       "        0.8       , 0.69019608, 0.5254902 , 0.56470588, 0.48235294,\n",
       "        0.09019608, 0.        , 0.        , 0.        , 0.        ,\n",
       "        0.04705882, 0.03921569, 0.        ],\n",
       "       [0.        , 0.        , 0.        , 0.        , 0.        ,\n",
       "        0.        , 0.        , 0.        , 0.        , 0.        ,\n",
       "        0.        , 0.        , 0.        , 0.        , 0.60784314,\n",
       "        0.9254902 , 0.81176471, 0.69803922, 0.41960784, 0.61176471,\n",
       "        0.63137255, 0.42745098, 0.25098039, 0.09019608, 0.30196078,\n",
       "        0.50980392, 0.28235294, 0.05882353],\n",
       "       [0.        , 0.        , 0.        , 0.        , 0.        ,\n",
       "        0.        , 0.        , 0.        , 0.        , 0.        ,\n",
       "        0.        , 0.00392157, 0.        , 0.27058824, 0.81176471,\n",
       "        0.8745098 , 0.85490196, 0.84705882, 0.84705882, 0.63921569,\n",
       "        0.49803922, 0.4745098 , 0.47843137, 0.57254902, 0.55294118,\n",
       "        0.34509804, 0.6745098 , 0.25882353],\n",
       "       [0.        , 0.        , 0.        , 0.        , 0.        ,\n",
       "        0.        , 0.        , 0.        , 0.        , 0.00392157,\n",
       "        0.00392157, 0.00392157, 0.        , 0.78431373, 0.90980392,\n",
       "        0.90980392, 0.91372549, 0.89803922, 0.8745098 , 0.8745098 ,\n",
       "        0.84313725, 0.83529412, 0.64313725, 0.49803922, 0.48235294,\n",
       "        0.76862745, 0.89803922, 0.        ],\n",
       "       [0.        , 0.        , 0.        , 0.        , 0.        ,\n",
       "        0.        , 0.        , 0.        , 0.        , 0.        ,\n",
       "        0.        , 0.        , 0.        , 0.71764706, 0.88235294,\n",
       "        0.84705882, 0.8745098 , 0.89411765, 0.92156863, 0.89019608,\n",
       "        0.87843137, 0.87058824, 0.87843137, 0.86666667, 0.8745098 ,\n",
       "        0.96078431, 0.67843137, 0.        ],\n",
       "       [0.        , 0.        , 0.        , 0.        , 0.        ,\n",
       "        0.        , 0.        , 0.        , 0.        , 0.        ,\n",
       "        0.        , 0.        , 0.        , 0.75686275, 0.89411765,\n",
       "        0.85490196, 0.83529412, 0.77647059, 0.70588235, 0.83137255,\n",
       "        0.82352941, 0.82745098, 0.83529412, 0.8745098 , 0.8627451 ,\n",
       "        0.95294118, 0.79215686, 0.        ],\n",
       "       [0.        , 0.        , 0.        , 0.        , 0.        ,\n",
       "        0.        , 0.        , 0.        , 0.        , 0.00392157,\n",
       "        0.01176471, 0.        , 0.04705882, 0.85882353, 0.8627451 ,\n",
       "        0.83137255, 0.85490196, 0.75294118, 0.6627451 , 0.89019608,\n",
       "        0.81568627, 0.85490196, 0.87843137, 0.83137255, 0.88627451,\n",
       "        0.77254902, 0.81960784, 0.20392157],\n",
       "       [0.        , 0.        , 0.        , 0.        , 0.        ,\n",
       "        0.        , 0.        , 0.        , 0.        , 0.        ,\n",
       "        0.02352941, 0.        , 0.38823529, 0.95686275, 0.87058824,\n",
       "        0.8627451 , 0.85490196, 0.79607843, 0.77647059, 0.86666667,\n",
       "        0.84313725, 0.83529412, 0.87058824, 0.8627451 , 0.96078431,\n",
       "        0.46666667, 0.65490196, 0.21960784],\n",
       "       [0.        , 0.        , 0.        , 0.        , 0.        ,\n",
       "        0.        , 0.        , 0.        , 0.        , 0.01568627,\n",
       "        0.        , 0.        , 0.21568627, 0.9254902 , 0.89411765,\n",
       "        0.90196078, 0.89411765, 0.94117647, 0.90980392, 0.83529412,\n",
       "        0.85490196, 0.8745098 , 0.91764706, 0.85098039, 0.85098039,\n",
       "        0.81960784, 0.36078431, 0.        ],\n",
       "       [0.        , 0.        , 0.00392157, 0.01568627, 0.02352941,\n",
       "        0.02745098, 0.00784314, 0.        , 0.        , 0.        ,\n",
       "        0.        , 0.        , 0.92941176, 0.88627451, 0.85098039,\n",
       "        0.8745098 , 0.87058824, 0.85882353, 0.87058824, 0.86666667,\n",
       "        0.84705882, 0.8745098 , 0.89803922, 0.84313725, 0.85490196,\n",
       "        1.        , 0.30196078, 0.        ],\n",
       "       [0.        , 0.01176471, 0.        , 0.        , 0.        ,\n",
       "        0.        , 0.        , 0.        , 0.        , 0.24313725,\n",
       "        0.56862745, 0.8       , 0.89411765, 0.81176471, 0.83529412,\n",
       "        0.86666667, 0.85490196, 0.81568627, 0.82745098, 0.85490196,\n",
       "        0.87843137, 0.8745098 , 0.85882353, 0.84313725, 0.87843137,\n",
       "        0.95686275, 0.62352941, 0.        ],\n",
       "       [0.        , 0.        , 0.        , 0.        , 0.07058824,\n",
       "        0.17254902, 0.32156863, 0.41960784, 0.74117647, 0.89411765,\n",
       "        0.8627451 , 0.87058824, 0.85098039, 0.88627451, 0.78431373,\n",
       "        0.80392157, 0.82745098, 0.90196078, 0.87843137, 0.91764706,\n",
       "        0.69019608, 0.7372549 , 0.98039216, 0.97254902, 0.91372549,\n",
       "        0.93333333, 0.84313725, 0.        ],\n",
       "       [0.        , 0.22352941, 0.73333333, 0.81568627, 0.87843137,\n",
       "        0.86666667, 0.87843137, 0.81568627, 0.8       , 0.83921569,\n",
       "        0.81568627, 0.81960784, 0.78431373, 0.62352941, 0.96078431,\n",
       "        0.75686275, 0.80784314, 0.8745098 , 1.        , 1.        ,\n",
       "        0.86666667, 0.91764706, 0.86666667, 0.82745098, 0.8627451 ,\n",
       "        0.90980392, 0.96470588, 0.        ],\n",
       "       [0.01176471, 0.79215686, 0.89411765, 0.87843137, 0.86666667,\n",
       "        0.82745098, 0.82745098, 0.83921569, 0.80392157, 0.80392157,\n",
       "        0.80392157, 0.8627451 , 0.94117647, 0.31372549, 0.58823529,\n",
       "        1.        , 0.89803922, 0.86666667, 0.7372549 , 0.60392157,\n",
       "        0.74901961, 0.82352941, 0.8       , 0.81960784, 0.87058824,\n",
       "        0.89411765, 0.88235294, 0.        ],\n",
       "       [0.38431373, 0.91372549, 0.77647059, 0.82352941, 0.87058824,\n",
       "        0.89803922, 0.89803922, 0.91764706, 0.97647059, 0.8627451 ,\n",
       "        0.76078431, 0.84313725, 0.85098039, 0.94509804, 0.25490196,\n",
       "        0.28627451, 0.41568627, 0.45882353, 0.65882353, 0.85882353,\n",
       "        0.86666667, 0.84313725, 0.85098039, 0.8745098 , 0.8745098 ,\n",
       "        0.87843137, 0.89803922, 0.11372549],\n",
       "       [0.29411765, 0.8       , 0.83137255, 0.8       , 0.75686275,\n",
       "        0.80392157, 0.82745098, 0.88235294, 0.84705882, 0.7254902 ,\n",
       "        0.77254902, 0.80784314, 0.77647059, 0.83529412, 0.94117647,\n",
       "        0.76470588, 0.89019608, 0.96078431, 0.9372549 , 0.8745098 ,\n",
       "        0.85490196, 0.83137255, 0.81960784, 0.87058824, 0.8627451 ,\n",
       "        0.86666667, 0.90196078, 0.2627451 ],\n",
       "       [0.18823529, 0.79607843, 0.71764706, 0.76078431, 0.83529412,\n",
       "        0.77254902, 0.7254902 , 0.74509804, 0.76078431, 0.75294118,\n",
       "        0.79215686, 0.83921569, 0.85882353, 0.86666667, 0.8627451 ,\n",
       "        0.9254902 , 0.88235294, 0.84705882, 0.78039216, 0.80784314,\n",
       "        0.72941176, 0.70980392, 0.69411765, 0.6745098 , 0.70980392,\n",
       "        0.80392157, 0.80784314, 0.45098039],\n",
       "       [0.        , 0.47843137, 0.85882353, 0.75686275, 0.70196078,\n",
       "        0.67058824, 0.71764706, 0.76862745, 0.8       , 0.82352941,\n",
       "        0.83529412, 0.81176471, 0.82745098, 0.82352941, 0.78431373,\n",
       "        0.76862745, 0.76078431, 0.74901961, 0.76470588, 0.74901961,\n",
       "        0.77647059, 0.75294118, 0.69019608, 0.61176471, 0.65490196,\n",
       "        0.69411765, 0.82352941, 0.36078431],\n",
       "       [0.        , 0.        , 0.29019608, 0.74117647, 0.83137255,\n",
       "        0.74901961, 0.68627451, 0.6745098 , 0.68627451, 0.70980392,\n",
       "        0.7254902 , 0.7372549 , 0.74117647, 0.7372549 , 0.75686275,\n",
       "        0.77647059, 0.8       , 0.81960784, 0.82352941, 0.82352941,\n",
       "        0.82745098, 0.7372549 , 0.7372549 , 0.76078431, 0.75294118,\n",
       "        0.84705882, 0.66666667, 0.        ],\n",
       "       [0.00784314, 0.        , 0.        , 0.        , 0.25882353,\n",
       "        0.78431373, 0.87058824, 0.92941176, 0.9372549 , 0.94901961,\n",
       "        0.96470588, 0.95294118, 0.95686275, 0.86666667, 0.8627451 ,\n",
       "        0.75686275, 0.74901961, 0.70196078, 0.71372549, 0.71372549,\n",
       "        0.70980392, 0.69019608, 0.65098039, 0.65882353, 0.38823529,\n",
       "        0.22745098, 0.        , 0.        ],\n",
       "       [0.        , 0.        , 0.        , 0.        , 0.        ,\n",
       "        0.        , 0.        , 0.15686275, 0.23921569, 0.17254902,\n",
       "        0.28235294, 0.16078431, 0.1372549 , 0.        , 0.        ,\n",
       "        0.        , 0.        , 0.        , 0.        , 0.        ,\n",
       "        0.        , 0.        , 0.        , 0.        , 0.        ,\n",
       "        0.        , 0.        , 0.        ],\n",
       "       [0.        , 0.        , 0.        , 0.        , 0.        ,\n",
       "        0.        , 0.        , 0.        , 0.        , 0.        ,\n",
       "        0.        , 0.        , 0.        , 0.        , 0.        ,\n",
       "        0.        , 0.        , 0.        , 0.        , 0.        ,\n",
       "        0.        , 0.        , 0.        , 0.        , 0.        ,\n",
       "        0.        , 0.        , 0.        ],\n",
       "       [0.        , 0.        , 0.        , 0.        , 0.        ,\n",
       "        0.        , 0.        , 0.        , 0.        , 0.        ,\n",
       "        0.        , 0.        , 0.        , 0.        , 0.        ,\n",
       "        0.        , 0.        , 0.        , 0.        , 0.        ,\n",
       "        0.        , 0.        , 0.        , 0.        , 0.        ,\n",
       "        0.        , 0.        , 0.        ]])"
      ]
     },
     "execution_count": 22,
     "metadata": {},
     "output_type": "execute_result"
    }
   ],
   "source": [
    "train_images[0]"
   ]
  },
  {
   "cell_type": "code",
   "execution_count": 24,
   "id": "9176a4a3",
   "metadata": {},
   "outputs": [],
   "source": [
    "model = keras.Sequential([\n",
    "    keras.layers.Flatten(input_shape=(28,28)),\n",
    "    keras.layers.Dense(512,activation=\"relu\"),\n",
    "    keras.layers.Dense(10,activation=\"softmax\")\n",
    "])"
   ]
  },
  {
   "cell_type": "code",
   "execution_count": 25,
   "id": "2c7849b8",
   "metadata": {},
   "outputs": [
    {
     "name": "stdout",
     "output_type": "stream",
     "text": [
      "Model: \"sequential\"\n",
      "_________________________________________________________________\n",
      "Layer (type)                 Output Shape              Param #   \n",
      "=================================================================\n",
      "flatten_1 (Flatten)          (None, 784)               0         \n",
      "_________________________________________________________________\n",
      "dense (Dense)                (None, 512)               401920    \n",
      "_________________________________________________________________\n",
      "dense_1 (Dense)              (None, 10)                5130      \n",
      "=================================================================\n",
      "Total params: 407,050\n",
      "Trainable params: 407,050\n",
      "Non-trainable params: 0\n",
      "_________________________________________________________________\n"
     ]
    }
   ],
   "source": [
    "model.summary()"
   ]
  },
  {
   "cell_type": "code",
   "execution_count": 30,
   "id": "d1ffc6d9",
   "metadata": {},
   "outputs": [],
   "source": [
    "model.compile(optimizer=\"adam\",loss=\"sparse_categorical_crossentropy\",metrics=[\"accuracy\"])"
   ]
  },
  {
   "cell_type": "code",
   "execution_count": 31,
   "id": "ffa9077e",
   "metadata": {},
   "outputs": [
    {
     "name": "stdout",
     "output_type": "stream",
     "text": [
      "Epoch 1/40\n",
      "1500/1500 [==============================] - 8s 5ms/step - loss: 0.4953 - accuracy: 0.8230 - val_loss: 0.3977 - val_accuracy: 0.8547\n",
      "Epoch 2/40\n",
      "1500/1500 [==============================] - 7s 5ms/step - loss: 0.3722 - accuracy: 0.8644 - val_loss: 0.3695 - val_accuracy: 0.8650\n",
      "Epoch 3/40\n",
      "1500/1500 [==============================] - 8s 5ms/step - loss: 0.3306 - accuracy: 0.8773 - val_loss: 0.3774 - val_accuracy: 0.8627\n",
      "Epoch 4/40\n",
      "1500/1500 [==============================] - 7s 5ms/step - loss: 0.3070 - accuracy: 0.8875 - val_loss: 0.3528 - val_accuracy: 0.8708\n",
      "Epoch 5/40\n",
      "1500/1500 [==============================] - 8s 5ms/step - loss: 0.2850 - accuracy: 0.8937 - val_loss: 0.3347 - val_accuracy: 0.8789\n",
      "Epoch 6/40\n",
      "1500/1500 [==============================] - 8s 5ms/step - loss: 0.2699 - accuracy: 0.8988 - val_loss: 0.3593 - val_accuracy: 0.8692\n",
      "Epoch 7/40\n",
      "1500/1500 [==============================] - 8s 5ms/step - loss: 0.2561 - accuracy: 0.9047 - val_loss: 0.3098 - val_accuracy: 0.8889\n",
      "Epoch 8/40\n",
      "1500/1500 [==============================] - 8s 5ms/step - loss: 0.2435 - accuracy: 0.9083 - val_loss: 0.3157 - val_accuracy: 0.8888\n",
      "Epoch 9/40\n",
      "1500/1500 [==============================] - 8s 5ms/step - loss: 0.2326 - accuracy: 0.9118 - val_loss: 0.3209 - val_accuracy: 0.8920\n",
      "Epoch 10/40\n",
      "1500/1500 [==============================] - 7s 5ms/step - loss: 0.2239 - accuracy: 0.9150 - val_loss: 0.3146 - val_accuracy: 0.8896\n",
      "Epoch 11/40\n",
      "1500/1500 [==============================] - 8s 5ms/step - loss: 0.2138 - accuracy: 0.9189 - val_loss: 0.3402 - val_accuracy: 0.8817\n",
      "Epoch 12/40\n",
      "1500/1500 [==============================] - 8s 5ms/step - loss: 0.2059 - accuracy: 0.9232 - val_loss: 0.3425 - val_accuracy: 0.8842\n",
      "Epoch 13/40\n",
      "1500/1500 [==============================] - 8s 5ms/step - loss: 0.1986 - accuracy: 0.9245 - val_loss: 0.3268 - val_accuracy: 0.8901\n",
      "Epoch 14/40\n",
      "1500/1500 [==============================] - 8s 5ms/step - loss: 0.1908 - accuracy: 0.9285 - val_loss: 0.3286 - val_accuracy: 0.8898\n",
      "Epoch 15/40\n",
      "1500/1500 [==============================] - 8s 5ms/step - loss: 0.1864 - accuracy: 0.9304 - val_loss: 0.3231 - val_accuracy: 0.8950\n",
      "Epoch 16/40\n",
      "1500/1500 [==============================] - 7s 5ms/step - loss: 0.1773 - accuracy: 0.9326 - val_loss: 0.3235 - val_accuracy: 0.8935\n",
      "Epoch 17/40\n",
      "1500/1500 [==============================] - 8s 5ms/step - loss: 0.1704 - accuracy: 0.9364 - val_loss: 0.3248 - val_accuracy: 0.8982\n",
      "Epoch 18/40\n",
      "1500/1500 [==============================] - 7s 5ms/step - loss: 0.1656 - accuracy: 0.9375 - val_loss: 0.3239 - val_accuracy: 0.8984\n",
      "Epoch 19/40\n",
      "1500/1500 [==============================] - 8s 5ms/step - loss: 0.1596 - accuracy: 0.9399 - val_loss: 0.3472 - val_accuracy: 0.8902\n",
      "Epoch 20/40\n",
      "1500/1500 [==============================] - 8s 5ms/step - loss: 0.1566 - accuracy: 0.9405 - val_loss: 0.3583 - val_accuracy: 0.8957\n",
      "Epoch 21/40\n",
      "1500/1500 [==============================] - 8s 5ms/step - loss: 0.1494 - accuracy: 0.9439 - val_loss: 0.3726 - val_accuracy: 0.8889\n",
      "Epoch 22/40\n",
      "1500/1500 [==============================] - 8s 5ms/step - loss: 0.1451 - accuracy: 0.9460 - val_loss: 0.3569 - val_accuracy: 0.8953\n",
      "Epoch 23/40\n",
      "1500/1500 [==============================] - 8s 5ms/step - loss: 0.1419 - accuracy: 0.9457 - val_loss: 0.3624 - val_accuracy: 0.8948\n",
      "Epoch 24/40\n",
      "1500/1500 [==============================] - 8s 5ms/step - loss: 0.1369 - accuracy: 0.9484 - val_loss: 0.3783 - val_accuracy: 0.8916\n",
      "Epoch 25/40\n",
      "1500/1500 [==============================] - 8s 5ms/step - loss: 0.1343 - accuracy: 0.9489 - val_loss: 0.3988 - val_accuracy: 0.8900\n",
      "Epoch 26/40\n",
      "1500/1500 [==============================] - 8s 5ms/step - loss: 0.1311 - accuracy: 0.9507 - val_loss: 0.3799 - val_accuracy: 0.8922\n",
      "Epoch 27/40\n",
      "1500/1500 [==============================] - 7s 5ms/step - loss: 0.1310 - accuracy: 0.9502 - val_loss: 0.3943 - val_accuracy: 0.8959\n",
      "Epoch 28/40\n",
      "1500/1500 [==============================] - 8s 5ms/step - loss: 0.1227 - accuracy: 0.9530 - val_loss: 0.3964 - val_accuracy: 0.8940\n",
      "Epoch 29/40\n",
      "1500/1500 [==============================] - 8s 5ms/step - loss: 0.1205 - accuracy: 0.9543 - val_loss: 0.4290 - val_accuracy: 0.8940\n",
      "Epoch 30/40\n",
      "1500/1500 [==============================] - 8s 5ms/step - loss: 0.1156 - accuracy: 0.9567 - val_loss: 0.4020 - val_accuracy: 0.8941\n",
      "Epoch 31/40\n",
      "1500/1500 [==============================] - 9s 6ms/step - loss: 0.1112 - accuracy: 0.9575 - val_loss: 0.3991 - val_accuracy: 0.8961\n",
      "Epoch 32/40\n",
      "1500/1500 [==============================] - 9s 6ms/step - loss: 0.1108 - accuracy: 0.9587 - val_loss: 0.4565 - val_accuracy: 0.8913\n",
      "Epoch 33/40\n",
      "1500/1500 [==============================] - 8s 5ms/step - loss: 0.1094 - accuracy: 0.9582 - val_loss: 0.4093 - val_accuracy: 0.8934\n",
      "Epoch 34/40\n",
      "1500/1500 [==============================] - 8s 5ms/step - loss: 0.1074 - accuracy: 0.9597 - val_loss: 0.4289 - val_accuracy: 0.8914\n",
      "Epoch 35/40\n",
      "1500/1500 [==============================] - 7s 5ms/step - loss: 0.1021 - accuracy: 0.9615 - val_loss: 0.4387 - val_accuracy: 0.8939\n",
      "Epoch 36/40\n",
      "1500/1500 [==============================] - 7s 5ms/step - loss: 0.1023 - accuracy: 0.9617 - val_loss: 0.4428 - val_accuracy: 0.8923\n",
      "Epoch 37/40\n",
      "1500/1500 [==============================] - 8s 5ms/step - loss: 0.1001 - accuracy: 0.9624 - val_loss: 0.4481 - val_accuracy: 0.8932\n",
      "Epoch 38/40\n",
      "1500/1500 [==============================] - 8s 5ms/step - loss: 0.0969 - accuracy: 0.9634 - val_loss: 0.4467 - val_accuracy: 0.8908\n",
      "Epoch 39/40\n",
      "1500/1500 [==============================] - 8s 5ms/step - loss: 0.0909 - accuracy: 0.9665 - val_loss: 0.5172 - val_accuracy: 0.8838\n",
      "Epoch 40/40\n",
      "1500/1500 [==============================] - 8s 5ms/step - loss: 0.0914 - accuracy: 0.9654 - val_loss: 0.4719 - val_accuracy: 0.8934\n"
     ]
    }
   ],
   "source": [
    "history = model.fit(train_images,train_labels,validation_split=0.2,epochs=40,verbose=1)"
   ]
  },
  {
   "cell_type": "code",
   "execution_count": 32,
   "id": "275252a9",
   "metadata": {},
   "outputs": [
    {
     "data": {
      "text/plain": [
       "{'loss': [0.4953412413597107,\n",
       "  0.37222298979759216,\n",
       "  0.3306252658367157,\n",
       "  0.30700981616973877,\n",
       "  0.284962922334671,\n",
       "  0.2699233293533325,\n",
       "  0.25613081455230713,\n",
       "  0.24347920715808868,\n",
       "  0.23261211812496185,\n",
       "  0.2239433377981186,\n",
       "  0.21382786333560944,\n",
       "  0.20592372119426727,\n",
       "  0.19864878058433533,\n",
       "  0.19077233970165253,\n",
       "  0.18642014265060425,\n",
       "  0.17728224396705627,\n",
       "  0.1703738570213318,\n",
       "  0.1655777245759964,\n",
       "  0.159641832113266,\n",
       "  0.1565825343132019,\n",
       "  0.1493532657623291,\n",
       "  0.14514440298080444,\n",
       "  0.14190374314785004,\n",
       "  0.13687710464000702,\n",
       "  0.13426260650157928,\n",
       "  0.1310792714357376,\n",
       "  0.13103020191192627,\n",
       "  0.12267506122589111,\n",
       "  0.12053193151950836,\n",
       "  0.11561068892478943,\n",
       "  0.11122380942106247,\n",
       "  0.11084192991256714,\n",
       "  0.10935091972351074,\n",
       "  0.10743822902441025,\n",
       "  0.10211412608623505,\n",
       "  0.10228592157363892,\n",
       "  0.10008177906274796,\n",
       "  0.09694111347198486,\n",
       "  0.09093375504016876,\n",
       "  0.0914401262998581],\n",
       " 'accuracy': [0.8230416774749756,\n",
       "  0.8644375205039978,\n",
       "  0.8773333430290222,\n",
       "  0.887541651725769,\n",
       "  0.893666684627533,\n",
       "  0.8987916707992554,\n",
       "  0.9047083258628845,\n",
       "  0.9082708358764648,\n",
       "  0.9118124842643738,\n",
       "  0.9150416851043701,\n",
       "  0.918916642665863,\n",
       "  0.9232291579246521,\n",
       "  0.9244583249092102,\n",
       "  0.9284583330154419,\n",
       "  0.9304375052452087,\n",
       "  0.9325833320617676,\n",
       "  0.9364166855812073,\n",
       "  0.937458336353302,\n",
       "  0.9399166703224182,\n",
       "  0.940500020980835,\n",
       "  0.9439374804496765,\n",
       "  0.9459999799728394,\n",
       "  0.9457499980926514,\n",
       "  0.948395848274231,\n",
       "  0.9488958120346069,\n",
       "  0.9506666660308838,\n",
       "  0.950208306312561,\n",
       "  0.952958345413208,\n",
       "  0.9542708396911621,\n",
       "  0.9566666483879089,\n",
       "  0.9574999809265137,\n",
       "  0.9586874842643738,\n",
       "  0.9582499861717224,\n",
       "  0.9597499966621399,\n",
       "  0.9614583253860474,\n",
       "  0.9616875052452087,\n",
       "  0.9623958468437195,\n",
       "  0.9634166955947876,\n",
       "  0.9664999842643738,\n",
       "  0.9653541445732117],\n",
       " 'val_loss': [0.3977228105068207,\n",
       "  0.36949700117111206,\n",
       "  0.37740206718444824,\n",
       "  0.3528347313404083,\n",
       "  0.33473747968673706,\n",
       "  0.3593103885650635,\n",
       "  0.30977028608322144,\n",
       "  0.3157404661178589,\n",
       "  0.3209250867366791,\n",
       "  0.31463518738746643,\n",
       "  0.34019356966018677,\n",
       "  0.3425214886665344,\n",
       "  0.32676994800567627,\n",
       "  0.32855093479156494,\n",
       "  0.32310181856155396,\n",
       "  0.32354605197906494,\n",
       "  0.32483866810798645,\n",
       "  0.32385051250457764,\n",
       "  0.347242146730423,\n",
       "  0.35828134417533875,\n",
       "  0.3725786507129669,\n",
       "  0.35689452290534973,\n",
       "  0.36238163709640503,\n",
       "  0.37825334072113037,\n",
       "  0.39882075786590576,\n",
       "  0.3799005150794983,\n",
       "  0.3942541778087616,\n",
       "  0.3963559865951538,\n",
       "  0.4289619028568268,\n",
       "  0.4019552767276764,\n",
       "  0.3990640342235565,\n",
       "  0.4564988911151886,\n",
       "  0.40928930044174194,\n",
       "  0.4289426803588867,\n",
       "  0.43871378898620605,\n",
       "  0.4427714943885803,\n",
       "  0.4481000304222107,\n",
       "  0.44666919112205505,\n",
       "  0.5171574950218201,\n",
       "  0.4718671143054962],\n",
       " 'val_accuracy': [0.8547499775886536,\n",
       "  0.8650000095367432,\n",
       "  0.8627499938011169,\n",
       "  0.8708333373069763,\n",
       "  0.8789166808128357,\n",
       "  0.8692499995231628,\n",
       "  0.8889166712760925,\n",
       "  0.8887500166893005,\n",
       "  0.8920000195503235,\n",
       "  0.8895833492279053,\n",
       "  0.8816666603088379,\n",
       "  0.8842499852180481,\n",
       "  0.8900833129882812,\n",
       "  0.8897500038146973,\n",
       "  0.8949999809265137,\n",
       "  0.8934999704360962,\n",
       "  0.8982499837875366,\n",
       "  0.8984166383743286,\n",
       "  0.8901666402816772,\n",
       "  0.8957499861717224,\n",
       "  0.8889166712760925,\n",
       "  0.8953333497047424,\n",
       "  0.8948333263397217,\n",
       "  0.8915833234786987,\n",
       "  0.8899999856948853,\n",
       "  0.8921666741371155,\n",
       "  0.8959166407585144,\n",
       "  0.8939999938011169,\n",
       "  0.8939999938011169,\n",
       "  0.8940833210945129,\n",
       "  0.8960833549499512,\n",
       "  0.8913333415985107,\n",
       "  0.8934166431427002,\n",
       "  0.8914166688919067,\n",
       "  0.893916666507721,\n",
       "  0.8922500014305115,\n",
       "  0.8932499885559082,\n",
       "  0.89083331823349,\n",
       "  0.8838333487510681,\n",
       "  0.8934166431427002]}"
      ]
     },
     "execution_count": 32,
     "metadata": {},
     "output_type": "execute_result"
    }
   ],
   "source": [
    "history.history"
   ]
  },
  {
   "cell_type": "code",
   "execution_count": 33,
   "id": "bf672ef8",
   "metadata": {},
   "outputs": [
    {
     "data": {
      "text/plain": [
       "dict_keys(['loss', 'accuracy', 'val_loss', 'val_accuracy'])"
      ]
     },
     "execution_count": 33,
     "metadata": {},
     "output_type": "execute_result"
    }
   ],
   "source": [
    "history.history.keys()"
   ]
  },
  {
   "cell_type": "code",
   "execution_count": 41,
   "id": "ffe24f21",
   "metadata": {},
   "outputs": [
    {
     "data": {
      "image/png": "[encoded data removed]",
      "text/plain": [
       "<Figure size 720x360 with 2 Axes>"
      ]
     },
     "metadata": {
      "needs_background": "light"
     },
     "output_type": "display_data"
    }
   ],
   "source": [
    "epochs =40\n",
    "acc = history.history[\"accuracy\"]\n",
    "val_acc = history.history[\"val_accuracy\"]\n",
    "\n",
    "loss = history.history[\"loss\"]\n",
    "val_loss = history.history[\"val_loss\"]\n",
    "\n",
    "epochs_range = range(epochs)\n",
    "\n",
    "plt.figure(figsize=(10,5))\n",
    "plt.subplot(1,2,1)\n",
    "plt.plot(epochs_range, acc, label=[\"Training_Accuracy\"])\n",
    "plt.plot(epochs_range, val_acc, label=[\"Validation_Accuracy\"])\n",
    "plt.legend(loc = \"lower right\")\n",
    "plt.title(\"Training and Validation Accuracy\")\n",
    "\n",
    "plt.subplot(1,2,2)\n",
    "plt.plot(epochs_range, loss, label=[\"Training_Loss\"])\n",
    "plt.plot(epochs_range, val_loss, label=[\"Validation_Loss\"])\n",
    "plt.legend(loc = \"upper right\")\n",
    "plt.title(\"Training and Validation Loss\")\n",
    "plt.show()"
   ]
  },
  {
   "cell_type": "code",
   "execution_count": 42,
   "id": "f3c43c56",
   "metadata": {},
   "outputs": [
    {
     "data": {
      "image/png": "[encoded data removed]",
      "text/plain": [
       "<Figure size 432x288 with 1 Axes>"
      ]
     },
     "metadata": {},
     "output_type": "display_data"
    }
   ],
   "source": [
    "plt.imshow(test_images[1], cmap=\"gray_r\")\n",
    "plt.xticks([])\n",
    "plt.yticks([])\n",
    "plt.grid(False)\n",
    "plt.title(class_names[test_labels[1]])\n",
    "plt.show()"
   ]
  },
  {
   "cell_type": "code",
   "execution_count": 43,
   "id": "2070e55b",
   "metadata": {},
   "outputs": [
    {
     "data": {
      "text/plain": [
       "(28, 28)"
      ]
     },
     "execution_count": 43,
     "metadata": {},
     "output_type": "execute_result"
    }
   ],
   "source": [
    "test_images[1].shape"
   ]
  },
  {
   "cell_type": "code",
   "execution_count": 44,
   "id": "35ad9c9d",
   "metadata": {},
   "outputs": [
    {
     "data": {
      "text/plain": [
       "array([[1.7319442e-08, 6.2235055e-27, 9.9992073e-01, 8.0582212e-24,\n",
       "        7.8993784e-05, 3.1261395e-21, 2.5894630e-07, 0.0000000e+00,\n",
       "        1.4595722e-24, 6.0700568e-31]], dtype=float32)"
      ]
     },
     "execution_count": 44,
     "metadata": {},
     "output_type": "execute_result"
    }
   ],
   "source": [
    "model.predict(test_images[1].reshape(1,28,28))"
   ]
  },
  {
   "cell_type": "code",
   "execution_count": 45,
   "id": "d48f10ee",
   "metadata": {},
   "outputs": [
    {
     "data": {
      "text/plain": [
       "array([[0., 0., 1., 0., 0., 0., 0., 0., 0., 0.]], dtype=float32)"
      ]
     },
     "execution_count": 45,
     "metadata": {},
     "output_type": "execute_result"
    }
   ],
   "source": [
    "model.predict(test_images[1].reshape(1,28,28)).round(3)"
   ]
  },
  {
   "cell_type": "code",
   "execution_count": 46,
   "id": "d04960e1",
   "metadata": {},
   "outputs": [
    {
     "data": {
      "text/plain": [
       "2"
      ]
     },
     "execution_count": 46,
     "metadata": {},
     "output_type": "execute_result"
    }
   ],
   "source": [
    "np.argmax(model.predict(test_images[1].reshape(1,28,28)).round(3))"
   ]
  },
  {
   "cell_type": "code",
   "execution_count": 47,
   "id": "419d91e6",
   "metadata": {},
   "outputs": [
    {
     "data": {
      "text/plain": [
       "'Pullover'"
      ]
     },
     "execution_count": 47,
     "metadata": {},
     "output_type": "execute_result"
    }
   ],
   "source": [
    "class_names[np.argmax(model.predict(test_images[1].reshape(1,28,28)).round(3))]"
   ]
  },
  {
   "cell_type": "markdown",
   "id": "88ef39be",
   "metadata": {},
   "source": [
    "# Early Stopping"
   ]
  },
  {
   "cell_type": "code",
   "execution_count": 48,
   "id": "57ea98f9",
   "metadata": {},
   "outputs": [],
   "source": [
    "model_new = keras.Sequential([\n",
    "    keras.layers.Flatten(input_shape=(28,28)),\n",
    "    keras.layers.Dense(512,activation=\"relu\"),\n",
    "    keras.layers.Dense(10,activation=\"softmax\")\n",
    "])"
   ]
  },
  {
   "cell_type": "code",
   "execution_count": 49,
   "id": "f092d549",
   "metadata": {},
   "outputs": [
    {
     "name": "stdout",
     "output_type": "stream",
     "text": [
      "Model: \"sequential_1\"\n",
      "_________________________________________________________________\n",
      "Layer (type)                 Output Shape              Param #   \n",
      "=================================================================\n",
      "flatten_2 (Flatten)          (None, 784)               0         \n",
      "_________________________________________________________________\n",
      "dense_2 (Dense)              (None, 512)               401920    \n",
      "_________________________________________________________________\n",
      "dense_3 (Dense)              (None, 10)                5130      \n",
      "=================================================================\n",
      "Total params: 407,050\n",
      "Trainable params: 407,050\n",
      "Non-trainable params: 0\n",
      "_________________________________________________________________\n"
     ]
    }
   ],
   "source": [
    "model_new.summary()"
   ]
  },
  {
   "cell_type": "code",
   "execution_count": null,
   "id": "757e6077",
   "metadata": {},
   "outputs": [],
   "source": []
  }
 ],
 "metadata": {
  "kernelspec": {
   "display_name": "Python 3",
   "language": "python",
   "name": "python3"
  },
  "language_info": {
   "codemirror_mode": {
    "name": "ipython",
    "version": 3
   },
   "file_extension": ".py",
   "mimetype": "text/x-python",
   "name": "python",
   "nbconvert_exporter": "python",
   "pygments_lexer": "ipython3",
   "version": "3.6.13"
  }
 },
 "nbformat": 4,
 "nbformat_minor": 5
}
